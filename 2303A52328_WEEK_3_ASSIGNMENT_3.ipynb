{
  "nbformat": 4,
  "nbformat_minor": 0,
  "metadata": {
    "colab": {
      "provenance": [],
      "authorship_tag": "ABX9TyOu1BMDup23foMsY5zVUNeU",
      "include_colab_link": true
    },
    "kernelspec": {
      "name": "python3",
      "display_name": "Python 3"
    },
    "language_info": {
      "name": "python"
    }
  },
  "cells": [
    {
      "cell_type": "markdown",
      "metadata": {
        "id": "view-in-github",
        "colab_type": "text"
      },
      "source": [
        "<a href=\"https://colab.research.google.com/github/ashutosh-linux/GEN-AI-2025/blob/main/2303A52328_WEEK_3_ASSIGNMENT_3.ipynb\" target=\"_parent\"><img src=\"https://colab.research.google.com/assets/colab-badge.svg\" alt=\"Open In Colab\"/></a>"
      ]
    },
    {
      "cell_type": "markdown",
      "source": [
        "QUESTION 1\n"
      ],
      "metadata": {
        "id": "FF7x2z1nFcc_"
      }
    },
    {
      "cell_type": "code",
      "source": [
        "def derivative_f(x):\n",
        "    return 20 * x**3 + 6 * x\n",
        "\n",
        "def gradient_descent(learning_rate=0.01, epochs=1000, initial_x=0):\n",
        "    x = initial_x\n",
        "    for _ in range(epochs):\n",
        "        grad = derivative_f(x)\n",
        "        x -= learning_rate * grad\n",
        "    return x\n",
        "\n",
        "# Finding the minimum value of f(x)\n",
        "x_min = gradient_descent()\n",
        "print(f\"The value of x at which f(x) has minimum value: {x_min}\")\n"
      ],
      "metadata": {
        "colab": {
          "base_uri": "https://localhost:8080/"
        },
        "id": "ycEIwBRWFd4h",
        "outputId": "80c81509-2086-4848-bc02-896337367008"
      },
      "execution_count": null,
      "outputs": [
        {
          "output_type": "stream",
          "name": "stdout",
          "text": [
            "The value of x at which f(x) has minimum value: 0.0\n"
          ]
        }
      ]
    },
    {
      "cell_type": "markdown",
      "source": [
        "QUESTION 2\n"
      ],
      "metadata": {
        "id": "pxxoXyLEFlIN"
      }
    },
    {
      "cell_type": "code",
      "source": [
        "def derivative_g(x, y):\n",
        "    df_dx = 6 * x\n",
        "    df_dy = -5 * (2.71828 ** -y)  # Approximation of e^-y\n",
        "    return df_dx, df_dy\n",
        "\n",
        "def gradient_descent(learning_rate=0.01, epochs=1000, initial_x=0, initial_y=0):\n",
        "    x, y = initial_x, initial_y\n",
        "    for _ in range(epochs):\n",
        "        grad_x, grad_y = derivative_g(x, y)\n",
        "        x -= learning_rate * grad_x\n",
        "        y -= learning_rate * grad_y\n",
        "    return x, y\n",
        "\n",
        "# Finding the minimum value of g(x, y)\n",
        "x_min, y_min = gradient_descent()\n",
        "print(f\"The values of x and y at which g(x, y) has minimum value: x={x_min}, y={y_min}\")\n"
      ],
      "metadata": {
        "colab": {
          "base_uri": "https://localhost:8080/"
        },
        "id": "drM8-0BUFmgI",
        "outputId": "7f72318a-dddf-4748-b810-4d24f111ec5a"
      },
      "execution_count": null,
      "outputs": [
        {
          "output_type": "stream",
          "name": "stdout",
          "text": [
            "The values of x and y at which g(x, y) has minimum value: x=0.0, y=3.933762227862872\n"
          ]
        }
      ]
    },
    {
      "cell_type": "markdown",
      "source": [
        "QUESTION 3\n"
      ],
      "metadata": {
        "id": "4NPP8o3wHVKW"
      }
    },
    {
      "cell_type": "code",
      "source": [
        "def sigmoid_derivative(x):\n",
        "    exp_x = 2.71828 ** -x  # Approximation of e^-x\n",
        "    sigmoid_x = 1 / (1 + exp_x)\n",
        "    return sigmoid_x * (1 - sigmoid_x)\n",
        "\n",
        "def gradient_descent(learning_rate=0.01, epochs=1000, initial_x=0):\n",
        "    x = initial_x\n",
        "    for _ in range(epochs):\n",
        "        grad_x = sigmoid_derivative(x)\n",
        "        x -= learning_rate * grad_x\n",
        "    return x\n",
        "\n",
        "# Finding the value of x where sigmoid derivative is minimized\n",
        "x_min = gradient_descent()\n",
        "print(f\"The value of x where sigmoid derivative is minimized: x={x_min}\")\n"
      ],
      "metadata": {
        "id": "lUAn_cmkHWs-",
        "colab": {
          "base_uri": "https://localhost:8080/"
        },
        "outputId": "e3515532-9a6c-43f5-cbf7-e674bdb36b21"
      },
      "execution_count": 3,
      "outputs": [
        {
          "output_type": "stream",
          "name": "stdout",
          "text": [
            "The value of x where sigmoid derivative is minimized: x=-1.8618359316575634\n"
          ]
        }
      ]
    },
    {
      "cell_type": "markdown",
      "source": [
        "QUESTION 4\n"
      ],
      "metadata": {
        "id": "uQZzm5fDftAL"
      }
    },
    {
      "cell_type": "code",
      "source": [
        "def square_error_derivative(M, C, X, Y):\n",
        "    N = len(X)\n",
        "    dM = (-2 / N) * sum((Y[i] - (M * X[i] + C)) * X[i] for i in range(N))\n",
        "    dC = (-2 / N) * sum(Y[i] - (M * X[i] + C) for i in range(N))\n",
        "    return dM, dC\n",
        "\n",
        "def gradient_descent(X, Y, learning_rate=0.01, epochs=1000, initial_M=0, initial_C=0):\n",
        "    M, C = initial_M, initial_C\n",
        "    for _ in range(epochs):\n",
        "        dM, dC = square_error_derivative(M, C, X, Y)\n",
        "        M -= learning_rate * dM\n",
        "        C -= learning_rate * dC\n",
        "    return M, C\n",
        "\n",
        "# Sample data\n",
        "X = [1, 2, 3, 4, 5]\n",
        "Y = [2.2, 2.8, 3.6, 4.5, 5.1]\n",
        "\n",
        "# Finding the optimal values of M and C\n",
        "M_opt, C_opt = gradient_descent(X, Y)\n",
        "print(f\"Optimal values: M={M_opt}, C={C_opt}\")"
      ],
      "metadata": {
        "colab": {
          "base_uri": "https://localhost:8080/"
        },
        "id": "ro1AQDUcfuNH",
        "outputId": "837831b3-1aec-4ff3-de12-0c56f9483194"
      },
      "execution_count": 4,
      "outputs": [
        {
          "output_type": "stream",
          "name": "stdout",
          "text": [
            "Optimal values: M=0.7602859535237155, C=1.3528644440640072\n"
          ]
        }
      ]
    }
  ]
}