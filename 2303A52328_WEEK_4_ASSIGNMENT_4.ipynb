{
  "nbformat": 4,
  "nbformat_minor": 0,
  "metadata": {
    "colab": {
      "provenance": [],
      "authorship_tag": "ABX9TyP0GVdGt4Rw4b/WJFJZoG8p",
      "include_colab_link": true
    },
    "kernelspec": {
      "name": "python3",
      "display_name": "Python 3"
    },
    "language_info": {
      "name": "python"
    }
  },
  "cells": [
    {
      "cell_type": "markdown",
      "metadata": {
        "id": "view-in-github",
        "colab_type": "text"
      },
      "source": [
        "<a href=\"https://colab.research.google.com/github/ashutosh-linux/GEN-AI-2025/blob/main/2303A52328_WEEK_4_ASSIGNMENT_4.ipynb\" target=\"_parent\"><img src=\"https://colab.research.google.com/assets/colab-badge.svg\" alt=\"Open In Colab\"/></a>"
      ]
    },
    {
      "cell_type": "markdown",
      "source": [
        "QUESTION 1"
      ],
      "metadata": {
        "id": "rFOVvhwGDLJb"
      }
    },
    {
      "cell_type": "code",
      "execution_count": 4,
      "metadata": {
        "id": "UajmsStOCLST",
        "colab": {
          "base_uri": "https://localhost:8080/"
        },
        "outputId": "e4fe1a89-2ddf-4b11-984c-44d0f2454e77"
      },
      "outputs": [
        {
          "output_type": "stream",
          "name": "stdout",
          "text": [
            "Epoch 100, MSE: 0.005936278952892467\n",
            "Epoch 200, MSE: 0.003283128537779544\n",
            "Epoch 300, MSE: 0.002840454778231099\n",
            "Epoch 400, MSE: 0.0024605989179860804\n",
            "Epoch 500, MSE: 0.0021318083905023663\n",
            "Epoch 600, MSE: 0.0018471819765699471\n",
            "Epoch 700, MSE: 0.001600760046304318\n",
            "Epoch 800, MSE: 0.0013873906381338397\n",
            "Epoch 900, MSE: 0.001202619558179053\n",
            "Epoch 1000, MSE: 0.0010425954970783456\n",
            "\n",
            "Test MSE: 0.004377240353702235\n",
            "Enter x1: 1\n",
            "Enter x2: 2\n",
            "Enter x3: 3\n",
            "Predicted Output: 1.581713567384282\n"
          ]
        }
      ],
      "source": [
        "import numpy as np\n",
        "\n",
        "# Training Data\n",
        "X_train = np.array([\n",
        "    [0.1, 0.2, 0.3],\n",
        "    [0.2, 0.3, 0.4],\n",
        "    [0.3, 0.4, 0.5],\n",
        "    [0.5, 0.6, 0.7],\n",
        "    [0.1, 0.3, 0.5],\n",
        "    [0.2, 0.4, 0.6],\n",
        "    [0.3, 0.5, 0.7],\n",
        "    [0.4, 0.6, 0.8],\n",
        "    [0.5, 0.7, 0.1]\n",
        "])\n",
        "y_train = np.array([0.14, 0.20, 0.26, 0.38, 0.22, 0.28, 0.34, 0.40, 0.22])\n",
        "\n",
        "# Test Data\n",
        "X_test = np.array([\n",
        "    [0.6, 0.7, 0.8],\n",
        "    [0.7, 0.8, 0.9]\n",
        "])\n",
        "y_test = np.array([0.44, 0.50])\n",
        "\n",
        "# Initialize weights and bias\n",
        "np.random.seed(0)\n",
        "weights = np.random.rand(3)\n",
        "bias = np.random.rand()\n",
        "\n",
        "# Hyperparameters\n",
        "learning_rate = 0.01\n",
        "epochs = 1000\n",
        "\n",
        "# Training the model\n",
        "for epoch in range(epochs):\n",
        "    # Forward pass\n",
        "    y_pred = np.dot(X_train, weights) + bias\n",
        "\n",
        "    # Compute MSE\n",
        "    mse = np.mean((y_pred - y_train) ** 2)\n",
        "\n",
        "    # Backpropagation\n",
        "    dw = (2 / len(X_train)) * np.dot(X_train.T, (y_pred - y_train))\n",
        "    db = (2 / len(X_train)) * np.sum(y_pred - y_train)\n",
        "\n",
        "    # Update weights and bias\n",
        "    weights -= learning_rate * dw\n",
        "    bias -= learning_rate * db\n",
        "\n",
        "    if (epoch + 1) % 100 == 0:\n",
        "        print(f\"Epoch {epoch + 1}, MSE: {mse}\")\n",
        "\n",
        "# Test the model\n",
        "y_pred_test = np.dot(X_test, weights) + bias\n",
        "mse_test = np.mean((y_pred_test - y_test) ** 2)\n",
        "print(f\"\\nTest MSE: {mse_test}\")\n",
        "\n",
        "# Predict output for user input\n",
        "def predict():\n",
        "    x1 = float(input(\"Enter x1: \"))\n",
        "    x2 = float(input(\"Enter x2: \"))\n",
        "    x3 = float(input(\"Enter x3: \"))\n",
        "    user_input = np.array([x1, x2, x3])\n",
        "    y_pred_user = np.dot(user_input, weights) + bias\n",
        "    print(f\"Predicted Output: {y_pred_user}\")\n",
        "\n",
        "# Deploy the model\n",
        "predict()\n"
      ]
    },
    {
      "cell_type": "markdown",
      "source": [
        "QUESTION 2\n"
      ],
      "metadata": {
        "id": "_-_wu_HXDO3c"
      }
    },
    {
      "cell_type": "code",
      "source": [
        "import numpy as np\n",
        "\n",
        "def sigmoid(x):\n",
        "    return 1 / (1 + np.exp(-x))\n",
        "\n",
        "def sigmoid_derivative(x):\n",
        "    return x * (1 - x)\n",
        "\n",
        "def train_ann(X_train, y_train, learning_rate=0.1, epochs=1000):\n",
        "    np.random.seed(0)\n",
        "    weights = np.random.rand(3)  # Initialize weights randomly\n",
        "    bias = np.random.rand(1)  # Initialize bias randomly\n",
        "\n",
        "    for epoch in range(epochs):\n",
        "        for i in range(len(X_train)):\n",
        "            x = X_train[i]\n",
        "            y_true = y_train[i]\n",
        "\n",
        "            # Forward pass\n",
        "            linear_output = np.dot(x, weights) + bias\n",
        "            y_pred = sigmoid(linear_output)\n",
        "\n",
        "            # Compute error\n",
        "            error = y_true - y_pred\n",
        "\n",
        "            # Backpropagation\n",
        "            d_error = error * sigmoid_derivative(y_pred)\n",
        "            weights += learning_rate * d_error * x\n",
        "            bias += learning_rate * d_error\n",
        "\n",
        "    return weights, bias\n",
        "\n",
        "def predict(X, weights, bias):\n",
        "    return sigmoid(np.dot(X, weights) + bias)\n",
        "\n",
        "def mean_squared_error(y_true, y_pred):\n",
        "    return np.mean((y_true - y_pred) ** 2)\n",
        "\n",
        "# Training Data\n",
        "X_train = np.array([\n",
        "    [0.1, 0.2, 0.3],\n",
        "    [0.2, 0.3, 0.4],\n",
        "    [0.3, 0.4, 0.5],\n",
        "    [0.5, 0.6, 0.7],\n",
        "    [0.1, 0.3, 0.5],\n",
        "    [0.2, 0.4, 0.6],\n",
        "    [0.3, 0.5, 0.7],\n",
        "    [0.4, 0.6, 0.8],\n",
        "    [0.5, 0.7, 0.1]\n",
        "])\n",
        "\n",
        "y_train = np.array([0.5349, 0.5498, 0.5646, 0.5939, 0.5548, 0.5695, 0.5842, 0.5987, 0.5548])\n",
        "\n",
        "# Train the ANN\n",
        "weights, bias = train_ann(X_train, y_train)\n",
        "\n",
        "# Test Data\n",
        "X_test = np.array([\n",
        "    [0.6, 0.7, 0.8],\n",
        "    [0.7, 0.8, 0.9]\n",
        "])\n",
        "y_test = np.array([0.6083, 0.6225])\n",
        "\n",
        "y_train_pred = np.array([predict(x, weights, bias) for x in X_train])\n",
        "y_test_pred = np.array([predict(x, weights, bias) for x in X_test])\n",
        "\n",
        "train_mse = mean_squared_error(y_train, y_train_pred)\n",
        "test_mse = mean_squared_error(y_test, y_test_pred)\n",
        "\n",
        "print(f\"Training MSE: {train_mse}\")\n",
        "print(f\"Testing MSE: {test_mse}\")\n",
        "\n",
        "# User Input Prediction\n",
        "x_input = np.array(list(map(float, input(\"Enter values for x1, x2, x3: \").split())))\n",
        "predicted_output = predict(x_input, weights, bias)\n",
        "print(f\"Predicted Output: {predicted_output}\")\n"
      ],
      "metadata": {
        "colab": {
          "base_uri": "https://localhost:8080/"
        },
        "id": "YECRWrUSDREU",
        "outputId": "2c400a26-1594-43ed-ce55-9dd180b9e12b"
      },
      "execution_count": 7,
      "outputs": [
        {
          "output_type": "stream",
          "name": "stdout",
          "text": [
            "Training MSE: 0.0008825060371359126\n",
            "Testing MSE: 0.00014168707493104746\n",
            "Enter values for x1, x2, x3: 0.6 0.7 0.8\n",
            "Predicted Output: [0.61294769]\n"
          ]
        }
      ]
    }
  ]
}