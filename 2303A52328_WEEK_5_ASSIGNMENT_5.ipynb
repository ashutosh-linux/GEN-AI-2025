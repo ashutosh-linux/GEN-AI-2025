{
  "nbformat": 4,
  "nbformat_minor": 0,
  "metadata": {
    "colab": {
      "provenance": [],
      "include_colab_link": true
    },
    "kernelspec": {
      "name": "python3",
      "display_name": "Python 3"
    },
    "language_info": {
      "name": "python"
    }
  },
  "cells": [
    {
      "cell_type": "markdown",
      "metadata": {
        "id": "view-in-github",
        "colab_type": "text"
      },
      "source": [
        "<a href=\"https://colab.research.google.com/github/ashutosh-linux/GEN-AI-2025/blob/main/2303A52328_WEEK_5_ASSIGNMENT_5.ipynb\" target=\"_parent\"><img src=\"https://colab.research.google.com/assets/colab-badge.svg\" alt=\"Open In Colab\"/></a>"
      ]
    },
    {
      "cell_type": "code",
      "execution_count": 2,
      "metadata": {
        "colab": {
          "base_uri": "https://localhost:8080/"
        },
        "id": "I8tZAhYPDGKm",
        "outputId": "b8b81dc1-195d-4d06-9ee4-4ff3164ac926"
      },
      "outputs": [
        {
          "output_type": "stream",
          "name": "stdout",
          "text": [
            "Training MSE: 2.1660020451810943e-09\n",
            "Testing MSE: 8.799534494671271e-09\n",
            "Enter x1 and x2: 1 2\n",
            "Predicted Output: 0.4043283762819771\n"
          ]
        }
      ],
      "source": [
        "import numpy as np\n",
        "\n",
        "def sigmoid(x):\n",
        "    return 1 / (1 + np.exp(-x))\n",
        "\n",
        "def sigmoid_derivative(x):\n",
        "    return x * (1 - x)\n",
        "\n",
        "def train_ann(X, y, hidden_neurons=4, learning_rate=0.1, epochs=10000):\n",
        "    input_neurons = X.shape[1]\n",
        "    output_neurons = 1\n",
        "\n",
        "    np.random.seed(42)\n",
        "    weights_input_hidden = np.random.rand(input_neurons, hidden_neurons)\n",
        "    bias_hidden = np.random.rand(hidden_neurons)\n",
        "    weights_hidden_output = np.random.rand(hidden_neurons, output_neurons)\n",
        "    bias_output = np.random.rand(output_neurons)\n",
        "\n",
        "    for epoch in range(epochs):\n",
        "\n",
        "        hidden_layer_input = np.dot(X, weights_input_hidden) + bias_hidden\n",
        "        hidden_layer_output = sigmoid(hidden_layer_input)\n",
        "        output_layer_input = np.dot(hidden_layer_output, weights_hidden_output) + bias_output\n",
        "        output = output_layer_input\n",
        "\n",
        "\n",
        "        error = y - output\n",
        "\n",
        "\n",
        "        output_gradient = error\n",
        "        hidden_gradient = output_gradient.dot(weights_hidden_output.T) * sigmoid_derivative(hidden_layer_output)\n",
        "\n",
        "\n",
        "        weights_hidden_output += learning_rate * hidden_layer_output.T.dot(output_gradient)\n",
        "        bias_output += learning_rate * np.sum(output_gradient, axis=0)\n",
        "        weights_input_hidden += learning_rate * X.T.dot(hidden_gradient)\n",
        "        bias_hidden += learning_rate * np.sum(hidden_gradient, axis=0)\n",
        "\n",
        "    return weights_input_hidden, bias_hidden, weights_hidden_output, bias_output\n",
        "\n",
        "def predict(X, weights_input_hidden, bias_hidden, weights_hidden_output, bias_output):\n",
        "    hidden_layer_input = np.dot(X, weights_input_hidden) + bias_hidden\n",
        "    hidden_layer_output = sigmoid(hidden_layer_input)\n",
        "    output_layer_input = np.dot(hidden_layer_output, weights_hidden_output) + bias_output\n",
        "    return output_layer_input  # Linear activation\n",
        "\n",
        "def mean_squared_error(y_true, y_pred):\n",
        "    return np.mean((y_true - y_pred) ** 2)\n",
        "\n",
        "\n",
        "X_train = np.array([[0.1, 0.2], [0.2, 0.3], [0.3, 0.4], [0.6, 0.7], [0.7, 0.8], [0.8, 0.9]])\n",
        "y_train = np.array([[0.3432], [0.3490], [0.3548], [0.3720], [0.3776], [0.3832]])\n",
        "\n",
        "weights_input_hidden, bias_hidden, weights_hidden_output, bias_output = train_ann(X_train, y_train)\n",
        "\n",
        "\n",
        "y_train_pred = predict(X_train, weights_input_hidden, bias_hidden, weights_hidden_output, bias_output)\n",
        "print(\"Training MSE:\", mean_squared_error(y_train, y_train_pred))\n",
        "\n",
        "\n",
        "X_test = np.array([[0.4, 0.5], [0.5, 0.6]])\n",
        "y_test = np.array([[0.3606], [0.3663]])\n",
        "\n",
        "y_test_pred = predict(X_test, weights_input_hidden, bias_hidden, weights_hidden_output, bias_output)\n",
        "print(\"Testing MSE:\", mean_squared_error(y_test, y_test_pred))\n",
        "\n",
        "\n",
        "x1, x2 = map(float, input(\"Enter x1 and x2: \").split())\n",
        "X_user = np.array([[x1, x2]])\n",
        "y_user_pred = predict(X_user, weights_input_hidden, bias_hidden, weights_hidden_output, bias_output)\n",
        "print(\"Predicted Output:\", y_user_pred[0][0])\n",
        "\n"
      ]
    }
  ]
}