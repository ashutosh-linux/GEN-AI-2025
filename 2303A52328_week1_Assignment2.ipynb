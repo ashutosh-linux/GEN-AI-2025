{
  "nbformat": 4,
  "nbformat_minor": 0,
  "metadata": {
    "colab": {
      "provenance": [],
      "authorship_tag": "ABX9TyMyUaI6bXpBDebenNh7Xj2l",
      "include_colab_link": true
    },
    "kernelspec": {
      "name": "python3",
      "display_name": "Python 3"
    },
    "language_info": {
      "name": "python"
    }
  },
  "cells": [
    {
      "cell_type": "markdown",
      "metadata": {
        "id": "view-in-github",
        "colab_type": "text"
      },
      "source": [
        "<a href=\"https://colab.research.google.com/github/ashutosh-linux/GEN-AI-2025/blob/main/2303A52328_week1_Assignment2.ipynb\" target=\"_parent\"><img src=\"https://colab.research.google.com/assets/colab-badge.svg\" alt=\"Open In Colab\"/></a>"
      ]
    },
    {
      "cell_type": "code",
      "execution_count": 1,
      "metadata": {
        "colab": {
          "base_uri": "https://localhost:8080/"
        },
        "id": "GPqxi6cYFZRo",
        "outputId": "2b714d29-9e1c-4243-a6e2-c39754595d1e"
      },
      "outputs": [
        {
          "output_type": "stream",
          "name": "stdout",
          "text": [
            "Manual Calculations:\n",
            "Mean Absolute Error (MAE): 0.4600000000000016\n",
            "Mean Squared Error (MSE): 0.24600000000000147\n",
            "Root Mean Squared Error (RMSE): 0.49598387070549127\n",
            "\n",
            "Using Libraries:\n",
            "Mean Absolute Error (MAE): 0.4600000000000016\n",
            "Mean Squared Error (MSE): 0.24600000000000147\n",
            "Root Mean Squared Error (RMSE): 0.49598387070549127\n"
          ]
        }
      ],
      "source": [
        "import numpy as np\n",
        "from sklearn.metrics import mean_absolute_error, mean_squared_error\n",
        "\n",
        "# Data from Table 1\n",
        "YActual = [20, 30, 40, 50, 60]\n",
        "YPred = [20.5, 30.3, 40.2, 50.6, 60.7]\n",
        "\n",
        "# Manual calculation of error metrics\n",
        "def calculate_metrics(y_actual, y_pred):\n",
        "    # Mean Absolute Error (MAE)\n",
        "    mae = sum(abs(a - p) for a, p in zip(y_actual, y_pred)) / len(y_actual)\n",
        "\n",
        "    # Mean Squared Error (MSE)\n",
        "    mse = sum((a - p) ** 2 for a, p in zip(y_actual, y_pred)) / len(y_actual)\n",
        "\n",
        "    # Root Mean Squared Error (RMSE)\n",
        "    rmse = mse ** 0.5\n",
        "\n",
        "    return mae, mse, rmse\n",
        "\n",
        "# Manual results\n",
        "mae_manual, mse_manual, rmse_manual = calculate_metrics(YActual, YPred)\n",
        "\n",
        "# Using libraries\n",
        "mae_lib = mean_absolute_error(YActual, YPred)\n",
        "mse_lib = mean_squared_error(YActual, YPred)\n",
        "rmse_lib = np.sqrt(mse_lib)\n",
        "\n",
        "# Display results\n",
        "print(\"Manual Calculations:\")\n",
        "print(f\"Mean Absolute Error (MAE): {mae_manual}\")\n",
        "print(f\"Mean Squared Error (MSE): {mse_manual}\")\n",
        "print(f\"Root Mean Squared Error (RMSE): {rmse_manual}\")\n",
        "\n",
        "print(\"\\nUsing Libraries:\")\n",
        "print(f\"Mean Absolute Error (MAE): {mae_lib}\")\n",
        "print(f\"Mean Squared Error (MSE): {mse_lib}\")\n",
        "print(f\"Root Mean Squared Error (RMSE): {rmse_lib}\")\n"
      ]
    },
    {
      "cell_type": "code",
      "source": [
        "import numpy as np\n",
        "from sklearn.metrics import accuracy_score, precision_score, recall_score, f1_score, classification_report\n",
        "\n",
        "# Data from Table 2\n",
        "YActual = [0, 0, 1, 1, 2, 0, 0, 0, 1, 0, 2, 0, 0, 1, 1, 2, 2, 1, 0, 2, 1, 0, 2, 2, 0, 2, 1, 2, 2, 2]\n",
        "YPred =  [0, 0, 1, 0, 2, 0, 0, 1, 1, 2, 2, 1, 0, 2, 1, 0, 2, 2, 0, 2, 1, 2, 2, 2, 0, 2, 1, 2, 2, 2]\n",
        "\n",
        "# Manual calculation of metrics\n",
        "def calculate_metrics(y_actual, y_pred):\n",
        "    classes = np.unique(y_actual)  # Find unique classes\n",
        "    metrics = {}\n",
        "\n",
        "    # Initialize counters for each metric\n",
        "    tp = {cls: 0 for cls in classes}  # True Positives\n",
        "    fp = {cls: 0 for cls in classes}  # False Positives\n",
        "    fn = {cls: 0 for cls in classes}  # False Negatives\n",
        "\n",
        "    # Compute TP, FP, FN\n",
        "    for actual, pred in zip(y_actual, y_pred):\n",
        "        if actual == pred:\n",
        "            tp[actual] += 1\n",
        "        else:\n",
        "            fp[pred] += 1\n",
        "            fn[actual] += 1\n",
        "\n",
        "    # Compute Precision, Recall, and F1 Score\n",
        "    for cls in classes:\n",
        "        precision = tp[cls] / (tp[cls] + fp[cls]) if (tp[cls] + fp[cls]) > 0 else 0\n",
        "        recall = tp[cls] / (tp[cls] + fn[cls]) if (tp[cls] + fn[cls]) > 0 else 0\n",
        "        f1 = 2 * (precision * recall) / (precision + recall) if (precision + recall) > 0 else 0\n",
        "        metrics[cls] = {\"Precision\": precision, \"Recall\": recall, \"F1 Score\": f1}\n",
        "\n",
        "    # Compute Accuracy\n",
        "    accuracy = sum(1 for a, p in zip(y_actual, y_pred) if a == p) / len(y_actual)\n",
        "\n",
        "    return accuracy, metrics\n",
        "\n",
        "# Manual results\n",
        "accuracy_manual, metrics_manual = calculate_metrics(YActual, YPred)\n",
        "\n",
        "# Using libraries\n",
        "accuracy_lib = accuracy_score(YActual, YPred)\n",
        "precision_lib = precision_score(YActual, YPred, average=None)\n",
        "recall_lib = recall_score(YActual, YPred, average=None)\n",
        "f1_lib = f1_score(YActual, YPred, average=None)\n",
        "report_lib = classification_report(YActual, YPred)\n",
        "\n",
        "# Display results\n",
        "print(\"Manual Calculations:\")\n",
        "print(f\"Accuracy: {accuracy_manual}\")\n",
        "for cls, metrics in metrics_manual.items():\n",
        "    print(f\"Class {cls}: Precision: {metrics['Precision']}, Recall: {metrics['Recall']}, F1 Score: {metrics['F1 Score']}\")\n",
        "\n",
        "print(\"\\nUsing Libraries:\")\n",
        "print(f\"Accuracy: {accuracy_lib}\")\n",
        "for idx, cls in enumerate(np.unique(YActual)):\n",
        "    print(f\"Class {cls}: Precision: {precision_lib[idx]}, Recall: {recall_lib[idx]}, F1 Score: {f1_lib[idx]}\")\n",
        "print(\"\\nDetailed Report:\\n\", report_lib)\n"
      ],
      "metadata": {
        "colab": {
          "base_uri": "https://localhost:8080/"
        },
        "id": "bVX1M_c7Fi0s",
        "outputId": "553669cc-3daa-4346-db24-d8a531d1d224"
      },
      "execution_count": 2,
      "outputs": [
        {
          "output_type": "stream",
          "name": "stdout",
          "text": [
            "Manual Calculations:\n",
            "Accuracy: 0.7333333333333333\n",
            "Class 0: Precision: 0.7777777777777778, Recall: 0.6363636363636364, F1 Score: 0.7000000000000001\n",
            "Class 1: Precision: 0.7142857142857143, Recall: 0.625, F1 Score: 0.6666666666666666\n",
            "Class 2: Precision: 0.7142857142857143, Recall: 0.9090909090909091, F1 Score: 0.8\n",
            "\n",
            "Using Libraries:\n",
            "Accuracy: 0.7333333333333333\n",
            "Class 0: Precision: 0.7777777777777778, Recall: 0.6363636363636364, F1 Score: 0.7\n",
            "Class 1: Precision: 0.7142857142857143, Recall: 0.625, F1 Score: 0.6666666666666666\n",
            "Class 2: Precision: 0.7142857142857143, Recall: 0.9090909090909091, F1 Score: 0.8\n",
            "\n",
            "Detailed Report:\n",
            "               precision    recall  f1-score   support\n",
            "\n",
            "           0       0.78      0.64      0.70        11\n",
            "           1       0.71      0.62      0.67         8\n",
            "           2       0.71      0.91      0.80        11\n",
            "\n",
            "    accuracy                           0.73        30\n",
            "   macro avg       0.74      0.72      0.72        30\n",
            "weighted avg       0.74      0.73      0.73        30\n",
            "\n"
          ]
        }
      ]
    }
  ]
}