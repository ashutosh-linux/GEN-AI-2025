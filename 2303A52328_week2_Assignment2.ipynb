{
  "nbformat": 4,
  "nbformat_minor": 0,
  "metadata": {
    "colab": {
      "provenance": [],
      "include_colab_link": true
    },
    "kernelspec": {
      "name": "python3",
      "display_name": "Python 3"
    },
    "language_info": {
      "name": "python"
    }
  },
  "cells": [
    {
      "cell_type": "markdown",
      "metadata": {
        "id": "view-in-github",
        "colab_type": "text"
      },
      "source": [
        "<a href=\"https://colab.research.google.com/github/ashutosh-linux/GEN-AI-2025/blob/main/2303A52328_week2_Assignment2.ipynb\" target=\"_parent\"><img src=\"https://colab.research.google.com/assets/colab-badge.svg\" alt=\"Open In Colab\"/></a>"
      ]
    },
    {
      "cell_type": "code",
      "execution_count": 1,
      "metadata": {
        "colab": {
          "base_uri": "https://localhost:8080/"
        },
        "id": "XBfK_Esx6zBu",
        "outputId": "019542d1-3f71-4903-90b4-e1f2833699c0"
      },
      "outputs": [
        {
          "output_type": "stream",
          "name": "stdout",
          "text": [
            "Requirement already satisfied: scipy in /usr/local/lib/python3.10/dist-packages (1.13.1)\n",
            "Requirement already satisfied: numpy<2.3,>=1.22.4 in /usr/local/lib/python3.10/dist-packages (from scipy) (1.26.4)\n"
          ]
        }
      ],
      "source": [
        "pip install scipy\n"
      ]
    },
    {
      "cell_type": "code",
      "source": [
        "from scipy.optimize import linprog\n",
        "\n",
        "# Coefficients of the objective function (maximize profit)\n",
        "# Since linprog minimizes, we use -profit values.\n",
        "c = [-6, -5]  # Coefficients for x1 (A) and x2 (B)\n",
        "\n",
        "# Coefficients of the inequality constraints (LHS)\n",
        "A = [\n",
        "    [1, 1],   # Milk constraint\n",
        "    [3, 2]    # Choco constraint\n",
        "]\n",
        "\n",
        "# RHS of the inequality constraints (RHS)\n",
        "b = [5, 12]  # Available resources\n",
        "\n",
        "# Bounds for the decision variables (x1 >= 0, x2 >= 0)\n",
        "x_bounds = (0, None)  # No upper limit for production, non-negative\n",
        "\n",
        "# Solve the linear programming problem\n",
        "result = linprog(c, A_ub=A, b_ub=b, bounds=[x_bounds, x_bounds], method='highs')\n",
        "\n",
        "# Extract and print the results\n",
        "if result.success:\n",
        "    x1, x2 = result.x  # Optimal values for x1 and x2\n",
        "    max_profit = -result.fun  # Since we minimized negative profit\n",
        "    print(f\"Optimal Production: A = {x1:.0f}, B = {x2:.0f}\")\n",
        "    print(f\"Maximum Profit: Rs {max_profit:.2f}\")\n",
        "else:\n",
        "    print(\"Optimization failed. Reason:\", result.message)\n"
      ],
      "metadata": {
        "colab": {
          "base_uri": "https://localhost:8080/"
        },
        "id": "IdiHXP1V63ly",
        "outputId": "1ac001dc-1588-4595-8f73-fb1cc81d6440"
      },
      "execution_count": 2,
      "outputs": [
        {
          "output_type": "stream",
          "name": "stdout",
          "text": [
            "Optimal Production: A = 2, B = 3\n",
            "Maximum Profit: Rs 27.00\n"
          ]
        }
      ]
    },
    {
      "cell_type": "code",
      "source": [
        "from scipy.optimize import linprog\n",
        "\n",
        "# Coefficients of the objective function (maximize profit)\n",
        "# Since linprog minimizes, we use -profit values.\n",
        "c = [-50, -120]  # Coefficients for x1 (Wheat) and x2 (Barley)\n",
        "\n",
        "# Coefficients of the inequality constraints (LHS)\n",
        "A = [\n",
        "    [1, 1],       # Land constraint\n",
        "    [7000, 2000], # Budget constraint\n",
        "    [10, 30]      # Labor constraint\n",
        "]\n",
        "\n",
        "# RHS of the inequality constraints (RHS)\n",
        "b = [110, 700000, 1200]  # Available resources (Land, Budget, Labor)\n",
        "\n",
        "# Bounds for the decision variables (x1 >= 0, x2 >= 0)\n",
        "x_bounds = (0, None)  # No upper limit for planting, non-negative\n",
        "\n",
        "# Solve the linear programming problem\n",
        "result = linprog(c, A_ub=A, b_ub=b, bounds=[x_bounds, x_bounds], method='highs')\n",
        "\n",
        "# Extract and print the results\n",
        "if result.success:\n",
        "    x1, x2 = result.x  # Optimal values for x1 and x2\n",
        "    max_profit = -result.fun  # Since we minimized negative profit\n",
        "    print(f\"Optimal Planting: Wheat = {x1:.2f} hectares, Barley = {x2:.2f} hectares\")\n",
        "    print(f\"Maximum Profit: Rs {max_profit:.2f}\")\n",
        "else:\n",
        "    print(\"Optimization failed. Reason:\", result.message)\n"
      ],
      "metadata": {
        "colab": {
          "base_uri": "https://localhost:8080/"
        },
        "id": "vheocx_b7N-7",
        "outputId": "0b21ff79-5bb4-40f3-f754-c8475f07f58a"
      },
      "execution_count": 3,
      "outputs": [
        {
          "output_type": "stream",
          "name": "stdout",
          "text": [
            "Optimal Planting: Wheat = 97.89 hectares, Barley = 7.37 hectares\n",
            "Maximum Profit: Rs 5778.95\n"
          ]
        }
      ]
    }
  ]
}